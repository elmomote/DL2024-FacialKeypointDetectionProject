{
  "nbformat": 4,
  "nbformat_minor": 0,
  "metadata": {
    "colab": {
      "provenance": [],
      "toc_visible": true,
      "include_colab_link": true
    },
    "kernelspec": {
      "name": "python3",
      "display_name": "Python 3"
    },
    "language_info": {
      "name": "python"
    }
  },
  "cells": [
    {
      "cell_type": "markdown",
      "metadata": {
        "id": "view-in-github",
        "colab_type": "text"
      },
      "source": [
        "<a href=\"https://colab.research.google.com/github/elmomote/DL2024-FacialKeypointDetectionProject/blob/main/%5BF24_DL%5D_Facial_Keypoint_Detection_Project.ipynb\" target=\"_parent\"><img src=\"https://colab.research.google.com/assets/colab-badge.svg\" alt=\"Open In Colab\"/></a>"
      ]
    },
    {
      "cell_type": "markdown",
      "source": [
        "### **The Project**"
      ],
      "metadata": {
        "id": "6MIxvEfE-bx5"
      }
    },
    {
      "cell_type": "markdown",
      "source": [
        "The Facial Keypoint Detection Competition from Kaggle consists of creating a model that receives grayscale images of shape 96x96 and make 30 predictions based on those images."
      ],
      "metadata": {
        "id": "7DG4Td7p-e6Y"
      }
    },
    {
      "cell_type": "markdown",
      "source": [
        "### **The Plan**"
      ],
      "metadata": {
        "id": "tMNiusYB-Sfo"
      }
    },
    {
      "cell_type": "markdown",
      "source": [
        "The plan in this project is to split up and make two models. Try our best, make some good documentation, and at the end. Observe the best out of both models to make one final model."
      ],
      "metadata": {
        "id": "P5T39u9d7m6Y"
      }
    },
    {
      "cell_type": "markdown",
      "source": [
        "# Loading Data set from Kaggle"
      ],
      "metadata": {
        "id": "JSJ4JDCkmLuJ"
      }
    },
    {
      "cell_type": "code",
      "source": [
        "from google.colab import files\n",
        "!mkdir -p ~/.kaggle\n",
        "!cp kaggle.json ~/.kaggle/\n",
        "!chmod 600 ~/.kaggle/kaggle.json\n",
        "!kaggle competitions download -c facial-keypoints-detection\n",
        "!unzip facial-keypoints-detection.zip\n",
        "!unzip training.zip\n",
        "!unzip test.zip\n"
      ],
      "metadata": {
        "id": "hIHr4Jw5jguR",
        "outputId": "2c0b0c8a-f22a-4413-e52d-2f3cdcf924d5",
        "colab": {
          "base_uri": "https://localhost:8080/",
          "height": 281
        }
      },
      "execution_count": null,
      "outputs": [
        {
          "output_type": "display_data",
          "data": {
            "text/plain": [
              "<IPython.core.display.HTML object>"
            ],
            "text/html": [
              "\n",
              "     <input type=\"file\" id=\"files-d796e072-9e74-4ec1-8d62-9f679e0c6c87\" name=\"files[]\" multiple disabled\n",
              "        style=\"border:none\" />\n",
              "     <output id=\"result-d796e072-9e74-4ec1-8d62-9f679e0c6c87\">\n",
              "      Upload widget is only available when the cell has been executed in the\n",
              "      current browser session. Please rerun this cell to enable.\n",
              "      </output>\n",
              "      <script>// Copyright 2017 Google LLC\n",
              "//\n",
              "// Licensed under the Apache License, Version 2.0 (the \"License\");\n",
              "// you may not use this file except in compliance with the License.\n",
              "// You may obtain a copy of the License at\n",
              "//\n",
              "//      http://www.apache.org/licenses/LICENSE-2.0\n",
              "//\n",
              "// Unless required by applicable law or agreed to in writing, software\n",
              "// distributed under the License is distributed on an \"AS IS\" BASIS,\n",
              "// WITHOUT WARRANTIES OR CONDITIONS OF ANY KIND, either express or implied.\n",
              "// See the License for the specific language governing permissions and\n",
              "// limitations under the License.\n",
              "\n",
              "/**\n",
              " * @fileoverview Helpers for google.colab Python module.\n",
              " */\n",
              "(function(scope) {\n",
              "function span(text, styleAttributes = {}) {\n",
              "  const element = document.createElement('span');\n",
              "  element.textContent = text;\n",
              "  for (const key of Object.keys(styleAttributes)) {\n",
              "    element.style[key] = styleAttributes[key];\n",
              "  }\n",
              "  return element;\n",
              "}\n",
              "\n",
              "// Max number of bytes which will be uploaded at a time.\n",
              "const MAX_PAYLOAD_SIZE = 100 * 1024;\n",
              "\n",
              "function _uploadFiles(inputId, outputId) {\n",
              "  const steps = uploadFilesStep(inputId, outputId);\n",
              "  const outputElement = document.getElementById(outputId);\n",
              "  // Cache steps on the outputElement to make it available for the next call\n",
              "  // to uploadFilesContinue from Python.\n",
              "  outputElement.steps = steps;\n",
              "\n",
              "  return _uploadFilesContinue(outputId);\n",
              "}\n",
              "\n",
              "// This is roughly an async generator (not supported in the browser yet),\n",
              "// where there are multiple asynchronous steps and the Python side is going\n",
              "// to poll for completion of each step.\n",
              "// This uses a Promise to block the python side on completion of each step,\n",
              "// then passes the result of the previous step as the input to the next step.\n",
              "function _uploadFilesContinue(outputId) {\n",
              "  const outputElement = document.getElementById(outputId);\n",
              "  const steps = outputElement.steps;\n",
              "\n",
              "  const next = steps.next(outputElement.lastPromiseValue);\n",
              "  return Promise.resolve(next.value.promise).then((value) => {\n",
              "    // Cache the last promise value to make it available to the next\n",
              "    // step of the generator.\n",
              "    outputElement.lastPromiseValue = value;\n",
              "    return next.value.response;\n",
              "  });\n",
              "}\n",
              "\n",
              "/**\n",
              " * Generator function which is called between each async step of the upload\n",
              " * process.\n",
              " * @param {string} inputId Element ID of the input file picker element.\n",
              " * @param {string} outputId Element ID of the output display.\n",
              " * @return {!Iterable<!Object>} Iterable of next steps.\n",
              " */\n",
              "function* uploadFilesStep(inputId, outputId) {\n",
              "  const inputElement = document.getElementById(inputId);\n",
              "  inputElement.disabled = false;\n",
              "\n",
              "  const outputElement = document.getElementById(outputId);\n",
              "  outputElement.innerHTML = '';\n",
              "\n",
              "  const pickedPromise = new Promise((resolve) => {\n",
              "    inputElement.addEventListener('change', (e) => {\n",
              "      resolve(e.target.files);\n",
              "    });\n",
              "  });\n",
              "\n",
              "  const cancel = document.createElement('button');\n",
              "  inputElement.parentElement.appendChild(cancel);\n",
              "  cancel.textContent = 'Cancel upload';\n",
              "  const cancelPromise = new Promise((resolve) => {\n",
              "    cancel.onclick = () => {\n",
              "      resolve(null);\n",
              "    };\n",
              "  });\n",
              "\n",
              "  // Wait for the user to pick the files.\n",
              "  const files = yield {\n",
              "    promise: Promise.race([pickedPromise, cancelPromise]),\n",
              "    response: {\n",
              "      action: 'starting',\n",
              "    }\n",
              "  };\n",
              "\n",
              "  cancel.remove();\n",
              "\n",
              "  // Disable the input element since further picks are not allowed.\n",
              "  inputElement.disabled = true;\n",
              "\n",
              "  if (!files) {\n",
              "    return {\n",
              "      response: {\n",
              "        action: 'complete',\n",
              "      }\n",
              "    };\n",
              "  }\n",
              "\n",
              "  for (const file of files) {\n",
              "    const li = document.createElement('li');\n",
              "    li.append(span(file.name, {fontWeight: 'bold'}));\n",
              "    li.append(span(\n",
              "        `(${file.type || 'n/a'}) - ${file.size} bytes, ` +\n",
              "        `last modified: ${\n",
              "            file.lastModifiedDate ? file.lastModifiedDate.toLocaleDateString() :\n",
              "                                    'n/a'} - `));\n",
              "    const percent = span('0% done');\n",
              "    li.appendChild(percent);\n",
              "\n",
              "    outputElement.appendChild(li);\n",
              "\n",
              "    const fileDataPromise = new Promise((resolve) => {\n",
              "      const reader = new FileReader();\n",
              "      reader.onload = (e) => {\n",
              "        resolve(e.target.result);\n",
              "      };\n",
              "      reader.readAsArrayBuffer(file);\n",
              "    });\n",
              "    // Wait for the data to be ready.\n",
              "    let fileData = yield {\n",
              "      promise: fileDataPromise,\n",
              "      response: {\n",
              "        action: 'continue',\n",
              "      }\n",
              "    };\n",
              "\n",
              "    // Use a chunked sending to avoid message size limits. See b/62115660.\n",
              "    let position = 0;\n",
              "    do {\n",
              "      const length = Math.min(fileData.byteLength - position, MAX_PAYLOAD_SIZE);\n",
              "      const chunk = new Uint8Array(fileData, position, length);\n",
              "      position += length;\n",
              "\n",
              "      const base64 = btoa(String.fromCharCode.apply(null, chunk));\n",
              "      yield {\n",
              "        response: {\n",
              "          action: 'append',\n",
              "          file: file.name,\n",
              "          data: base64,\n",
              "        },\n",
              "      };\n",
              "\n",
              "      let percentDone = fileData.byteLength === 0 ?\n",
              "          100 :\n",
              "          Math.round((position / fileData.byteLength) * 100);\n",
              "      percent.textContent = `${percentDone}% done`;\n",
              "\n",
              "    } while (position < fileData.byteLength);\n",
              "  }\n",
              "\n",
              "  // All done.\n",
              "  yield {\n",
              "    response: {\n",
              "      action: 'complete',\n",
              "    }\n",
              "  };\n",
              "}\n",
              "\n",
              "scope.google = scope.google || {};\n",
              "scope.google.colab = scope.google.colab || {};\n",
              "scope.google.colab._files = {\n",
              "  _uploadFiles,\n",
              "  _uploadFilesContinue,\n",
              "};\n",
              "})(self);\n",
              "</script> "
            ]
          },
          "metadata": {}
        },
        {
          "output_type": "stream",
          "name": "stdout",
          "text": [
            "Saving kaggle.json to kaggle.json\n",
            "Downloading facial-keypoints-detection.zip to /content\n",
            " 85% 65.0M/76.3M [00:00<00:00, 89.3MB/s]\n",
            "100% 76.3M/76.3M [00:00<00:00, 96.4MB/s]\n",
            "Archive:  facial-keypoints-detection.zip\n",
            "  inflating: IdLookupTable.csv       \n",
            "  inflating: SampleSubmission.csv    \n",
            "  inflating: test.zip                \n",
            "  inflating: training.zip            \n",
            "Archive:  training.zip\n",
            "  inflating: training.csv            \n",
            "Archive:  test.zip\n",
            "  inflating: test.csv                \n"
          ]
        }
      ]
    },
    {
      "cell_type": "markdown",
      "source": [
        "## Sample Image"
      ],
      "metadata": {
        "id": "-QAimdGS0CTb"
      }
    },
    {
      "cell_type": "code",
      "source": [
        "import pandas as pd\n",
        "import numpy as np\n",
        "import matplotlib.pyplot as plt\n",
        "data = pd.read_csv('training.csv')\n",
        "data['Image'] = data['Image'].apply(lambda x: np.fromstring(x, sep=' '))\n",
        "image_index = 0  # Change this to display a different image\n",
        "image = data['Image'][image_index].reshape(96, 96)\n",
        "\n",
        "plt.imshow(image, cmap='gray')\n",
        "plt.axis('off')\n",
        "plt.title(\"Sample Training Image\")\n",
        "plt.show()\n"
      ],
      "metadata": {
        "id": "EFO8lz6ikVU1",
        "outputId": "302ead8a-c7a0-445f-f66c-bd128f6b35e2",
        "colab": {
          "base_uri": "https://localhost:8080/",
          "height": 428
        }
      },
      "execution_count": null,
      "outputs": [
        {
          "output_type": "display_data",
          "data": {
            "text/plain": [
              "<Figure size 640x480 with 1 Axes>"
            ],
            "image/png": "[encoded data removed]"
          },
          "metadata": {}
        }
      ]
    },
    {
      "cell_type": "markdown",
      "source": [
        "## Sample Image with Key points"
      ],
      "metadata": {
        "id": "jXYrI9Yr0PIh"
      }
    },
    {
      "cell_type": "code",
      "source": [
        "keypoints = data.iloc[image_index, :-1].values  # All columns except the 'Image'\n",
        "keypoints = keypoints.astype(float).reshape(-1, 2)  # Reshape into (x, y) pairs\n",
        "\n",
        "plt.imshow(image, cmap='gray')\n",
        "plt.scatter(keypoints[:, 0], keypoints[:, 1], s=20, c='red', marker='o')\n",
        "plt.axis('off')\n",
        "plt.title(\"Training Image with Keypoints\")\n",
        "plt.show()\n"
      ],
      "metadata": {
        "id": "mI75ww8lmaVb",
        "outputId": "38d467a7-a40c-460f-de52-fcac370d7148",
        "colab": {
          "base_uri": "https://localhost:8080/",
          "height": 428
        }
      },
      "execution_count": null,
      "outputs": [
        {
          "output_type": "display_data",
          "data": {
            "text/plain": [
              "<Figure size 640x480 with 1 Axes>"
            ],
            "image/png": "[encoded data removed]"
          },
          "metadata": {}
        }
      ]
    },
    {
      "cell_type": "markdown",
      "source": [
        "# Model 1"
      ],
      "metadata": {
        "id": "FhoEA0UW_60C"
      }
    },
    {
      "cell_type": "code",
      "source": [
        "# Load and preprocess data\n",
        "data = pd.read_csv('training.csv')\n",
        "data['Image'] = data['Image'].apply(lambda x: np.fromstring(x, sep=' '))\n",
        "data.dropna(inplace=True)  # Drop rows with missing keypoints\n",
        "\n",
        "# Prepare input and output\n",
        "images = np.stack(data['Image'].values).reshape(-1, 96, 96, 1) / 255.0  # Normalize pixel values\n",
        "keypoints = data.drop(columns=['Image']).values  # Keypoints as targets\n",
        "\n",
        "# Split into train and validation sets\n",
        "from sklearn.model_selection import train_test_split\n",
        "X_train, X_val, y_train, y_val = train_test_split(images, keypoints, test_size=0.2, random_state=42)\n",
        "\n",
        "# Define the model architecture\n",
        "model = Sequential([\n",
        "    Conv2D(32, (3, 3), activation='relu', input_shape=(96, 96, 1)),\n",
        "    MaxPooling2D(2, 2),\n",
        "    Dropout(0.2),\n",
        "\n",
        "    Conv2D(64, (3, 3), activation='relu'),\n",
        "    MaxPooling2D(2, 2),\n",
        "    Dropout(0.2),\n",
        "\n",
        "    Flatten(),\n",
        "    Dense(128, activation='relu'),\n",
        "    Dropout(0.5),\n",
        "    Dense(30)  # 15 keypoints * 2 coordinates\n",
        "])\n",
        "\n",
        "# Compile the model\n",
        "model.compile(optimizer='adam', loss='mean_squared_error', metrics=['mae'])\n",
        "\n",
        "# Train the model\n",
        "history = model.fit(X_train, y_train,\n",
        "                    validation_data=(X_val, y_val),\n",
        "                    epochs=50,\n",
        "                    batch_size=32)\n",
        "\n",
        "# Plot training history\n",
        "plt.plot(history.history['loss'], label='Training Loss')\n",
        "plt.plot(history.history['val_loss'], label='Validation Loss')\n",
        "plt.xlabel('Epochs')\n",
        "plt.ylabel('Loss')\n",
        "plt.legend()\n",
        "plt.title('Training and Validation Loss')\n",
        "plt.show()\n",
        "\n",
        "# Evaluate the model on validation data\n",
        "val_loss, val_mae = model.evaluate(X_val, y_val)\n",
        "print(f\"Validation Loss: {val_loss:.4f}, Validation MAE: {val_mae:.4f}\")\n",
        "\n",
        "# Visualize predictions\n",
        "def visualize_predictions(index):\n",
        "    img = X_val[index].reshape(96, 96)\n",
        "    true_keypoints = y_val[index].reshape(-1, 2)\n",
        "    predicted_keypoints = model.predict(X_val[index:index+1]).reshape(-1, 2)\n",
        "\n",
        "    plt.imshow(img, cmap='gray')\n",
        "    plt.scatter(true_keypoints[:, 0], true_keypoints[:, 1], c='green', label='True', s=20)\n",
        "    plt.scatter(predicted_keypoints[:, 0], predicted_keypoints[:, 1], c='red', label='Predicted', s=20)\n",
        "    plt.legend()\n",
        "    plt.title('True vs Predicted Keypoints')\n",
        "    plt.axis('off')\n",
        "    plt.show()\n",
        "\n",
        "# Visualize predictions for a random sample\n",
        "visualize_predictions(0)  # Change the index to view other samples\n"
      ],
      "metadata": {
        "id": "lOP9vG3r_8dc"
      },
      "execution_count": null,
      "outputs": []
    },
    {
      "cell_type": "markdown",
      "source": [
        "# Model 2"
      ],
      "metadata": {
        "id": "uMJCLdb-AP4h"
      }
    }
  ]
}